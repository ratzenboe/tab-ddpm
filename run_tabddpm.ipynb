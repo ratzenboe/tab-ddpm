{
 "cells": [
  {
   "cell_type": "code",
   "execution_count": 1,
   "id": "initial_id",
   "metadata": {
    "collapsed": true,
    "ExecuteTime": {
     "end_time": "2023-12-28T14:33:25.258749Z",
     "start_time": "2023-12-28T14:33:24.386608Z"
    }
   },
   "outputs": [],
   "source": [
    "import tomli\n",
    "import shutil\n",
    "import os\n",
    "import torch\n",
    "import sys\n",
    "import numpy as np\n",
    "import matplotlib.pyplot as plt\n",
    "import delu as zero"
   ]
  },
  {
   "cell_type": "code",
   "execution_count": 2,
   "outputs": [],
   "source": [
    "sys.path.append('/home/sebastian/Documents/programs/pythonProject/tab-ddpm/')"
   ],
   "metadata": {
    "collapsed": false,
    "ExecuteTime": {
     "end_time": "2023-12-28T14:33:25.779903Z",
     "start_time": "2023-12-28T14:33:25.776879Z"
    }
   },
   "id": "59773df8f535bcfd"
  },
  {
   "cell_type": "code",
   "execution_count": 3,
   "outputs": [],
   "source": [
    "from tab_ddpm.scripts.train import train as _train\n",
    "from tab_ddpm.scripts.sample import sample as _sample\n",
    "from tab_ddpm.tab_ddpm.gaussian_multinomial_diffsuion import GaussianMultinomialDiffusion\n",
    "from tab_ddpm.scripts.utils_train import get_model, make_dataset\n",
    "from tab_ddpm import lib"
   ],
   "metadata": {
    "collapsed": false,
    "ExecuteTime": {
     "end_time": "2023-12-28T14:33:26.872239Z",
     "start_time": "2023-12-28T14:33:26.159306Z"
    }
   },
   "id": "737d140528831ebe"
  },
  {
   "cell_type": "code",
   "execution_count": 4,
   "outputs": [],
   "source": [
    "DEFAULT_DEVICE = torch.device('cuda:0' if torch.cuda.is_available() else \"cpu\")"
   ],
   "metadata": {
    "collapsed": false,
    "ExecuteTime": {
     "end_time": "2023-12-28T14:33:27.259096Z",
     "start_time": "2023-12-28T14:33:27.256260Z"
    }
   },
   "id": "b5337a50bd10b299"
  },
  {
   "cell_type": "code",
   "execution_count": 5,
   "outputs": [],
   "source": [
    "def load_config(path) :\n",
    "    with open(path, 'rb') as f:\n",
    "        return tomli.load(f)\n",
    "    \n",
    "def save_file(parent_dir, config_path):\n",
    "    try:\n",
    "        dst = os.path.join(parent_dir)\n",
    "        os.makedirs(os.path.dirname(dst), exist_ok=True)\n",
    "        shutil.copyfile(os.path.abspath(config_path), dst)\n",
    "    except shutil.SameFileError:\n",
    "        pass"
   ],
   "metadata": {
    "collapsed": false,
    "ExecuteTime": {
     "end_time": "2023-12-28T14:33:27.521868Z",
     "start_time": "2023-12-28T14:33:27.517233Z"
    }
   },
   "id": "bf723ffbaa5aebf3"
  },
  {
   "cell_type": "code",
   "execution_count": 6,
   "outputs": [],
   "source": [
    "config_file_path = './exp/poly_lines/config.toml'\n",
    "raw_config = lib.load_config(config_file_path)\n",
    "\n",
    "device = DEFAULT_DEVICE\n",
    "\n",
    "save_file(os.path.join(raw_config['parent_dir'], 'config.toml'), config_file_path)"
   ],
   "metadata": {
    "collapsed": false,
    "ExecuteTime": {
     "end_time": "2023-12-28T14:33:27.966229Z",
     "start_time": "2023-12-28T14:33:27.964291Z"
    }
   },
   "id": "35b99c7bf24e9193"
  },
  {
   "cell_type": "markdown",
   "source": [
    "# Train network"
   ],
   "metadata": {
    "collapsed": false
   },
   "id": "9ff0cf25ce852ec3"
  },
  {
   "cell_type": "code",
   "execution_count": 7,
   "outputs": [
    {
     "name": "stderr",
     "output_type": "stream",
     "text": [
      "/Users/ratzenboe/anaconda3/envs/torch/lib/python3.11/site-packages/delu/_utils.py:22: DeLUDeprecationWarning: The function improve_reproducibility` is deprecated and will be removed in future releases. Instead, use `delu.random.seed` and manually set flags mentioned in the `PyTorch docs on reproducibility <https://pytorch.org/docs/stable/notes/randomness.html>`_\n",
      "  warnings.warn(\n"
     ]
    },
    {
     "name": "stdout",
     "output_type": "stream",
     "text": [
      "[0]\n",
      "2\n",
      "{'d_in': 2, 'num_classes': 2, 'is_y_cond': True, 'rtdl_params': {'d_layers': [256, 1024, 1024, 512], 'dropout': 0.0}}\n",
      "mlp\n",
      "Step 10/3000 MLoss: 0.0 GLoss: 0.7287 Sum: 0.7287\n",
      "Step 20/3000 MLoss: 0.0 GLoss: 0.6206 Sum: 0.6206\n",
      "Step 30/3000 MLoss: 0.0 GLoss: 0.5441 Sum: 0.5441\n",
      "Step 40/3000 MLoss: 0.0 GLoss: 0.5299 Sum: 0.5299\n",
      "Step 50/3000 MLoss: 0.0 GLoss: 0.4955 Sum: 0.4955\n",
      "Step 60/3000 MLoss: 0.0 GLoss: 0.5062 Sum: 0.5062\n",
      "Step 70/3000 MLoss: 0.0 GLoss: 0.4733 Sum: 0.4733\n",
      "Step 80/3000 MLoss: 0.0 GLoss: 0.4986 Sum: 0.4986\n",
      "Step 90/3000 MLoss: 0.0 GLoss: 0.5035 Sum: 0.5035\n",
      "Step 100/3000 MLoss: 0.0 GLoss: 0.4768 Sum: 0.4768\n",
      "Step 110/3000 MLoss: 0.0 GLoss: 0.4979 Sum: 0.4979\n",
      "Step 120/3000 MLoss: 0.0 GLoss: 0.4846 Sum: 0.4846\n",
      "Step 130/3000 MLoss: 0.0 GLoss: 0.4893 Sum: 0.4893\n",
      "Step 140/3000 MLoss: 0.0 GLoss: 0.4914 Sum: 0.4914\n",
      "Step 150/3000 MLoss: 0.0 GLoss: 0.4843 Sum: 0.4843\n",
      "Step 160/3000 MLoss: 0.0 GLoss: 0.4721 Sum: 0.4721\n",
      "Step 170/3000 MLoss: 0.0 GLoss: 0.4807 Sum: 0.4807\n",
      "Step 180/3000 MLoss: 0.0 GLoss: 0.4759 Sum: 0.4759\n",
      "Step 190/3000 MLoss: 0.0 GLoss: 0.4776 Sum: 0.4776\n",
      "Step 200/3000 MLoss: 0.0 GLoss: 0.4532 Sum: 0.4532\n",
      "Step 210/3000 MLoss: 0.0 GLoss: 0.4826 Sum: 0.4826\n",
      "Step 220/3000 MLoss: 0.0 GLoss: 0.4724 Sum: 0.4724\n",
      "Step 230/3000 MLoss: 0.0 GLoss: 0.4792 Sum: 0.4792\n",
      "Step 240/3000 MLoss: 0.0 GLoss: 0.4879 Sum: 0.4879\n",
      "Step 250/3000 MLoss: 0.0 GLoss: 0.4776 Sum: 0.4776\n",
      "Step 260/3000 MLoss: 0.0 GLoss: 0.4792 Sum: 0.4792\n",
      "Step 270/3000 MLoss: 0.0 GLoss: 0.4805 Sum: 0.4805\n",
      "Step 280/3000 MLoss: 0.0 GLoss: 0.4613 Sum: 0.4613\n",
      "Step 290/3000 MLoss: 0.0 GLoss: 0.4775 Sum: 0.4775\n",
      "Step 300/3000 MLoss: 0.0 GLoss: 0.4851 Sum: 0.4851\n",
      "Step 310/3000 MLoss: 0.0 GLoss: 0.4565 Sum: 0.4565\n",
      "Step 320/3000 MLoss: 0.0 GLoss: 0.4846 Sum: 0.4846\n",
      "Step 330/3000 MLoss: 0.0 GLoss: 0.4814 Sum: 0.4814\n",
      "Step 340/3000 MLoss: 0.0 GLoss: 0.4754 Sum: 0.4754\n",
      "Step 350/3000 MLoss: 0.0 GLoss: 0.4691 Sum: 0.4691\n",
      "Step 360/3000 MLoss: 0.0 GLoss: 0.4794 Sum: 0.4794\n",
      "Step 370/3000 MLoss: 0.0 GLoss: 0.469 Sum: 0.469\n",
      "Step 380/3000 MLoss: 0.0 GLoss: 0.4661 Sum: 0.4661\n",
      "Step 390/3000 MLoss: 0.0 GLoss: 0.4872 Sum: 0.4872\n",
      "Step 400/3000 MLoss: 0.0 GLoss: 0.479 Sum: 0.479\n",
      "Step 410/3000 MLoss: 0.0 GLoss: 0.4902 Sum: 0.4902\n",
      "Step 420/3000 MLoss: 0.0 GLoss: 0.4697 Sum: 0.4697\n",
      "Step 430/3000 MLoss: 0.0 GLoss: 0.4818 Sum: 0.4818\n",
      "Step 440/3000 MLoss: 0.0 GLoss: 0.4555 Sum: 0.4555\n",
      "Step 450/3000 MLoss: 0.0 GLoss: 0.4838 Sum: 0.4838\n",
      "Step 460/3000 MLoss: 0.0 GLoss: 0.4537 Sum: 0.4537\n",
      "Step 470/3000 MLoss: 0.0 GLoss: 0.4848 Sum: 0.4848\n",
      "Step 480/3000 MLoss: 0.0 GLoss: 0.477 Sum: 0.477\n",
      "Step 490/3000 MLoss: 0.0 GLoss: 0.4624 Sum: 0.4624\n",
      "Step 500/3000 MLoss: 0.0 GLoss: 0.4833 Sum: 0.4833\n",
      "Step 510/3000 MLoss: 0.0 GLoss: 0.4733 Sum: 0.4733\n",
      "Step 520/3000 MLoss: 0.0 GLoss: 0.4641 Sum: 0.4641\n",
      "Step 530/3000 MLoss: 0.0 GLoss: 0.4751 Sum: 0.4751\n",
      "Step 540/3000 MLoss: 0.0 GLoss: 0.4859 Sum: 0.4859\n",
      "Step 550/3000 MLoss: 0.0 GLoss: 0.4756 Sum: 0.4756\n",
      "Step 560/3000 MLoss: 0.0 GLoss: 0.4708 Sum: 0.4708\n",
      "Step 570/3000 MLoss: 0.0 GLoss: 0.4525 Sum: 0.4525\n",
      "Step 580/3000 MLoss: 0.0 GLoss: 0.4718 Sum: 0.4718\n",
      "Step 590/3000 MLoss: 0.0 GLoss: 0.476 Sum: 0.476\n",
      "Step 600/3000 MLoss: 0.0 GLoss: 0.467 Sum: 0.467\n",
      "Step 610/3000 MLoss: 0.0 GLoss: 0.4667 Sum: 0.4667\n",
      "Step 620/3000 MLoss: 0.0 GLoss: 0.4733 Sum: 0.4733\n",
      "Step 630/3000 MLoss: 0.0 GLoss: 0.4682 Sum: 0.4682\n",
      "Step 640/3000 MLoss: 0.0 GLoss: 0.4629 Sum: 0.4629\n",
      "Step 650/3000 MLoss: 0.0 GLoss: 0.4764 Sum: 0.4764\n",
      "Step 660/3000 MLoss: 0.0 GLoss: 0.4772 Sum: 0.4772\n",
      "Step 670/3000 MLoss: 0.0 GLoss: 0.4833 Sum: 0.4833\n",
      "Step 680/3000 MLoss: 0.0 GLoss: 0.461 Sum: 0.461\n",
      "Step 690/3000 MLoss: 0.0 GLoss: 0.4654 Sum: 0.4654\n",
      "Step 700/3000 MLoss: 0.0 GLoss: 0.464 Sum: 0.464\n",
      "Step 710/3000 MLoss: 0.0 GLoss: 0.4825 Sum: 0.4825\n",
      "Step 720/3000 MLoss: 0.0 GLoss: 0.4748 Sum: 0.4748\n",
      "Step 730/3000 MLoss: 0.0 GLoss: 0.4697 Sum: 0.4697\n",
      "Step 740/3000 MLoss: 0.0 GLoss: 0.4778 Sum: 0.4778\n",
      "Step 750/3000 MLoss: 0.0 GLoss: 0.4743 Sum: 0.4743\n",
      "Step 760/3000 MLoss: 0.0 GLoss: 0.474 Sum: 0.474\n",
      "Step 770/3000 MLoss: 0.0 GLoss: 0.4933 Sum: 0.4933\n",
      "Step 780/3000 MLoss: 0.0 GLoss: 0.47 Sum: 0.47\n",
      "Step 790/3000 MLoss: 0.0 GLoss: 0.4762 Sum: 0.4762\n",
      "Step 800/3000 MLoss: 0.0 GLoss: 0.4752 Sum: 0.4752\n",
      "Step 810/3000 MLoss: 0.0 GLoss: 0.4621 Sum: 0.4621\n",
      "Step 820/3000 MLoss: 0.0 GLoss: 0.4719 Sum: 0.4719\n",
      "Step 830/3000 MLoss: 0.0 GLoss: 0.4795 Sum: 0.4795\n",
      "Step 840/3000 MLoss: 0.0 GLoss: 0.4851 Sum: 0.4851\n",
      "Step 850/3000 MLoss: 0.0 GLoss: 0.4678 Sum: 0.4678\n",
      "Step 860/3000 MLoss: 0.0 GLoss: 0.4682 Sum: 0.4682\n",
      "Step 870/3000 MLoss: 0.0 GLoss: 0.4971 Sum: 0.4971\n",
      "Step 880/3000 MLoss: 0.0 GLoss: 0.493 Sum: 0.493\n",
      "Step 890/3000 MLoss: 0.0 GLoss: 0.4818 Sum: 0.4818\n",
      "Step 900/3000 MLoss: 0.0 GLoss: 0.4702 Sum: 0.4702\n",
      "Step 910/3000 MLoss: 0.0 GLoss: 0.4633 Sum: 0.4633\n",
      "Step 920/3000 MLoss: 0.0 GLoss: 0.4799 Sum: 0.4799\n",
      "Step 930/3000 MLoss: 0.0 GLoss: 0.4766 Sum: 0.4766\n",
      "Step 940/3000 MLoss: 0.0 GLoss: 0.4829 Sum: 0.4829\n",
      "Step 950/3000 MLoss: 0.0 GLoss: 0.4646 Sum: 0.4646\n",
      "Step 960/3000 MLoss: 0.0 GLoss: 0.4561 Sum: 0.4561\n",
      "Step 970/3000 MLoss: 0.0 GLoss: 0.4664 Sum: 0.4664\n",
      "Step 980/3000 MLoss: 0.0 GLoss: 0.4695 Sum: 0.4695\n",
      "Step 990/3000 MLoss: 0.0 GLoss: 0.4747 Sum: 0.4747\n",
      "Step 1000/3000 MLoss: 0.0 GLoss: 0.4773 Sum: 0.4773\n",
      "Step 1010/3000 MLoss: 0.0 GLoss: 0.4784 Sum: 0.4784\n",
      "Step 1020/3000 MLoss: 0.0 GLoss: 0.4617 Sum: 0.4617\n",
      "Step 1030/3000 MLoss: 0.0 GLoss: 0.4637 Sum: 0.4637\n",
      "Step 1040/3000 MLoss: 0.0 GLoss: 0.4706 Sum: 0.4706\n",
      "Step 1050/3000 MLoss: 0.0 GLoss: 0.4673 Sum: 0.4673\n",
      "Step 1060/3000 MLoss: 0.0 GLoss: 0.4622 Sum: 0.4622\n",
      "Step 1070/3000 MLoss: 0.0 GLoss: 0.4682 Sum: 0.4682\n",
      "Step 1080/3000 MLoss: 0.0 GLoss: 0.4799 Sum: 0.4799\n",
      "Step 1090/3000 MLoss: 0.0 GLoss: 0.4627 Sum: 0.4627\n",
      "Step 1100/3000 MLoss: 0.0 GLoss: 0.4636 Sum: 0.4636\n",
      "Step 1110/3000 MLoss: 0.0 GLoss: 0.4655 Sum: 0.4655\n",
      "Step 1120/3000 MLoss: 0.0 GLoss: 0.4768 Sum: 0.4768\n",
      "Step 1130/3000 MLoss: 0.0 GLoss: 0.4614 Sum: 0.4614\n",
      "Step 1140/3000 MLoss: 0.0 GLoss: 0.4567 Sum: 0.4567\n",
      "Step 1150/3000 MLoss: 0.0 GLoss: 0.4747 Sum: 0.4747\n",
      "Step 1160/3000 MLoss: 0.0 GLoss: 0.4743 Sum: 0.4743\n",
      "Step 1170/3000 MLoss: 0.0 GLoss: 0.456 Sum: 0.456\n",
      "Step 1180/3000 MLoss: 0.0 GLoss: 0.4635 Sum: 0.4635\n",
      "Step 1190/3000 MLoss: 0.0 GLoss: 0.4699 Sum: 0.4699\n",
      "Step 1200/3000 MLoss: 0.0 GLoss: 0.4637 Sum: 0.4637\n",
      "Step 1210/3000 MLoss: 0.0 GLoss: 0.4713 Sum: 0.4713\n",
      "Step 1220/3000 MLoss: 0.0 GLoss: 0.4632 Sum: 0.4632\n",
      "Step 1230/3000 MLoss: 0.0 GLoss: 0.4704 Sum: 0.4704\n",
      "Step 1240/3000 MLoss: 0.0 GLoss: 0.4772 Sum: 0.4772\n",
      "Step 1250/3000 MLoss: 0.0 GLoss: 0.471 Sum: 0.471\n",
      "Step 1260/3000 MLoss: 0.0 GLoss: 0.4696 Sum: 0.4696\n",
      "Step 1270/3000 MLoss: 0.0 GLoss: 0.4739 Sum: 0.4739\n",
      "Step 1280/3000 MLoss: 0.0 GLoss: 0.4742 Sum: 0.4742\n",
      "Step 1290/3000 MLoss: 0.0 GLoss: 0.4458 Sum: 0.4458\n",
      "Step 1300/3000 MLoss: 0.0 GLoss: 0.4558 Sum: 0.4558\n",
      "Step 1310/3000 MLoss: 0.0 GLoss: 0.4726 Sum: 0.4726\n",
      "Step 1320/3000 MLoss: 0.0 GLoss: 0.4569 Sum: 0.4569\n",
      "Step 1330/3000 MLoss: 0.0 GLoss: 0.4533 Sum: 0.4533\n",
      "Step 1340/3000 MLoss: 0.0 GLoss: 0.4655 Sum: 0.4655\n",
      "Step 1350/3000 MLoss: 0.0 GLoss: 0.4584 Sum: 0.4584\n",
      "Step 1360/3000 MLoss: 0.0 GLoss: 0.4615 Sum: 0.4615\n",
      "Step 1370/3000 MLoss: 0.0 GLoss: 0.4637 Sum: 0.4637\n",
      "Step 1380/3000 MLoss: 0.0 GLoss: 0.466 Sum: 0.466\n",
      "Step 1390/3000 MLoss: 0.0 GLoss: 0.4522 Sum: 0.4522\n",
      "Step 1400/3000 MLoss: 0.0 GLoss: 0.4703 Sum: 0.4703\n",
      "Step 1410/3000 MLoss: 0.0 GLoss: 0.4705 Sum: 0.4705\n",
      "Step 1420/3000 MLoss: 0.0 GLoss: 0.4545 Sum: 0.4545\n",
      "Step 1430/3000 MLoss: 0.0 GLoss: 0.4611 Sum: 0.4611\n",
      "Step 1440/3000 MLoss: 0.0 GLoss: 0.4674 Sum: 0.4674\n",
      "Step 1450/3000 MLoss: 0.0 GLoss: 0.466 Sum: 0.466\n",
      "Step 1460/3000 MLoss: 0.0 GLoss: 0.476 Sum: 0.476\n",
      "Step 1470/3000 MLoss: 0.0 GLoss: 0.4657 Sum: 0.4657\n",
      "Step 1480/3000 MLoss: 0.0 GLoss: 0.4674 Sum: 0.4674\n",
      "Step 1490/3000 MLoss: 0.0 GLoss: 0.4729 Sum: 0.4729\n",
      "Step 1500/3000 MLoss: 0.0 GLoss: 0.4769 Sum: 0.4769\n",
      "Step 1510/3000 MLoss: 0.0 GLoss: 0.465 Sum: 0.465\n",
      "Step 1520/3000 MLoss: 0.0 GLoss: 0.4712 Sum: 0.4712\n",
      "Step 1530/3000 MLoss: 0.0 GLoss: 0.4656 Sum: 0.4656\n",
      "Step 1540/3000 MLoss: 0.0 GLoss: 0.4482 Sum: 0.4482\n",
      "Step 1550/3000 MLoss: 0.0 GLoss: 0.474 Sum: 0.474\n",
      "Step 1560/3000 MLoss: 0.0 GLoss: 0.4573 Sum: 0.4573\n",
      "Step 1570/3000 MLoss: 0.0 GLoss: 0.4681 Sum: 0.4681\n",
      "Step 1580/3000 MLoss: 0.0 GLoss: 0.4698 Sum: 0.4698\n",
      "Step 1590/3000 MLoss: 0.0 GLoss: 0.4573 Sum: 0.4573\n",
      "Step 1600/3000 MLoss: 0.0 GLoss: 0.4703 Sum: 0.4703\n",
      "Step 1610/3000 MLoss: 0.0 GLoss: 0.4577 Sum: 0.4577\n",
      "Step 1620/3000 MLoss: 0.0 GLoss: 0.4605 Sum: 0.4605\n",
      "Step 1630/3000 MLoss: 0.0 GLoss: 0.4726 Sum: 0.4726\n",
      "Step 1640/3000 MLoss: 0.0 GLoss: 0.4706 Sum: 0.4706\n",
      "Step 1650/3000 MLoss: 0.0 GLoss: 0.4593 Sum: 0.4593\n",
      "Step 1660/3000 MLoss: 0.0 GLoss: 0.463 Sum: 0.463\n",
      "Step 1670/3000 MLoss: 0.0 GLoss: 0.4686 Sum: 0.4686\n",
      "Step 1680/3000 MLoss: 0.0 GLoss: 0.4627 Sum: 0.4627\n",
      "Step 1690/3000 MLoss: 0.0 GLoss: 0.4565 Sum: 0.4565\n",
      "Step 1700/3000 MLoss: 0.0 GLoss: 0.4549 Sum: 0.4549\n",
      "Step 1710/3000 MLoss: 0.0 GLoss: 0.4744 Sum: 0.4744\n",
      "Step 1720/3000 MLoss: 0.0 GLoss: 0.4419 Sum: 0.4419\n",
      "Step 1730/3000 MLoss: 0.0 GLoss: 0.4619 Sum: 0.4619\n",
      "Step 1740/3000 MLoss: 0.0 GLoss: 0.4704 Sum: 0.4704\n",
      "Step 1750/3000 MLoss: 0.0 GLoss: 0.4712 Sum: 0.4712\n",
      "Step 1760/3000 MLoss: 0.0 GLoss: 0.4691 Sum: 0.4691\n",
      "Step 1770/3000 MLoss: 0.0 GLoss: 0.4657 Sum: 0.4657\n",
      "Step 1780/3000 MLoss: 0.0 GLoss: 0.4588 Sum: 0.4588\n",
      "Step 1790/3000 MLoss: 0.0 GLoss: 0.4612 Sum: 0.4612\n",
      "Step 1800/3000 MLoss: 0.0 GLoss: 0.4629 Sum: 0.4629\n",
      "Step 1810/3000 MLoss: 0.0 GLoss: 0.4729 Sum: 0.4729\n",
      "Step 1820/3000 MLoss: 0.0 GLoss: 0.463 Sum: 0.463\n",
      "Step 1830/3000 MLoss: 0.0 GLoss: 0.4554 Sum: 0.4554\n",
      "Step 1840/3000 MLoss: 0.0 GLoss: 0.4584 Sum: 0.4584\n",
      "Step 1850/3000 MLoss: 0.0 GLoss: 0.4525 Sum: 0.4525\n",
      "Step 1860/3000 MLoss: 0.0 GLoss: 0.4525 Sum: 0.4525\n",
      "Step 1870/3000 MLoss: 0.0 GLoss: 0.4535 Sum: 0.4535\n",
      "Step 1880/3000 MLoss: 0.0 GLoss: 0.4632 Sum: 0.4632\n",
      "Step 1890/3000 MLoss: 0.0 GLoss: 0.4525 Sum: 0.4525\n",
      "Step 1900/3000 MLoss: 0.0 GLoss: 0.4602 Sum: 0.4602\n",
      "Step 1910/3000 MLoss: 0.0 GLoss: 0.4757 Sum: 0.4757\n",
      "Step 1920/3000 MLoss: 0.0 GLoss: 0.4597 Sum: 0.4597\n",
      "Step 1930/3000 MLoss: 0.0 GLoss: 0.47 Sum: 0.47\n",
      "Step 1940/3000 MLoss: 0.0 GLoss: 0.4577 Sum: 0.4577\n",
      "Step 1950/3000 MLoss: 0.0 GLoss: 0.4735 Sum: 0.4735\n",
      "Step 1960/3000 MLoss: 0.0 GLoss: 0.4625 Sum: 0.4625\n",
      "Step 1970/3000 MLoss: 0.0 GLoss: 0.4747 Sum: 0.4747\n",
      "Step 1980/3000 MLoss: 0.0 GLoss: 0.4427 Sum: 0.4427\n",
      "Step 1990/3000 MLoss: 0.0 GLoss: 0.459 Sum: 0.459\n",
      "Step 2000/3000 MLoss: 0.0 GLoss: 0.4521 Sum: 0.4521\n",
      "Step 2010/3000 MLoss: 0.0 GLoss: 0.4584 Sum: 0.4584\n",
      "Step 2020/3000 MLoss: 0.0 GLoss: 0.4706 Sum: 0.4706\n",
      "Step 2030/3000 MLoss: 0.0 GLoss: 0.4778 Sum: 0.4778\n",
      "Step 2040/3000 MLoss: 0.0 GLoss: 0.4661 Sum: 0.4661\n",
      "Step 2050/3000 MLoss: 0.0 GLoss: 0.4597 Sum: 0.4597\n",
      "Step 2060/3000 MLoss: 0.0 GLoss: 0.4528 Sum: 0.4528\n",
      "Step 2070/3000 MLoss: 0.0 GLoss: 0.4697 Sum: 0.4697\n",
      "Step 2080/3000 MLoss: 0.0 GLoss: 0.4726 Sum: 0.4726\n",
      "Step 2090/3000 MLoss: 0.0 GLoss: 0.4785 Sum: 0.4785\n",
      "Step 2100/3000 MLoss: 0.0 GLoss: 0.4527 Sum: 0.4527\n",
      "Step 2110/3000 MLoss: 0.0 GLoss: 0.4607 Sum: 0.4607\n",
      "Step 2120/3000 MLoss: 0.0 GLoss: 0.4836 Sum: 0.4836\n",
      "Step 2130/3000 MLoss: 0.0 GLoss: 0.4688 Sum: 0.4688\n",
      "Step 2140/3000 MLoss: 0.0 GLoss: 0.4641 Sum: 0.4641\n",
      "Step 2150/3000 MLoss: 0.0 GLoss: 0.4544 Sum: 0.4544\n",
      "Step 2160/3000 MLoss: 0.0 GLoss: 0.4713 Sum: 0.4713\n",
      "Step 2170/3000 MLoss: 0.0 GLoss: 0.4567 Sum: 0.4567\n",
      "Step 2180/3000 MLoss: 0.0 GLoss: 0.4459 Sum: 0.4459\n",
      "Step 2190/3000 MLoss: 0.0 GLoss: 0.4552 Sum: 0.4552\n",
      "Step 2200/3000 MLoss: 0.0 GLoss: 0.4459 Sum: 0.4459\n",
      "Step 2210/3000 MLoss: 0.0 GLoss: 0.4692 Sum: 0.4692\n",
      "Step 2220/3000 MLoss: 0.0 GLoss: 0.4668 Sum: 0.4668\n",
      "Step 2230/3000 MLoss: 0.0 GLoss: 0.4507 Sum: 0.4507\n",
      "Step 2240/3000 MLoss: 0.0 GLoss: 0.4691 Sum: 0.4691\n",
      "Step 2250/3000 MLoss: 0.0 GLoss: 0.447 Sum: 0.447\n",
      "Step 2260/3000 MLoss: 0.0 GLoss: 0.4685 Sum: 0.4685\n",
      "Step 2270/3000 MLoss: 0.0 GLoss: 0.4683 Sum: 0.4683\n",
      "Step 2280/3000 MLoss: 0.0 GLoss: 0.4779 Sum: 0.4779\n",
      "Step 2290/3000 MLoss: 0.0 GLoss: 0.4715 Sum: 0.4715\n",
      "Step 2300/3000 MLoss: 0.0 GLoss: 0.4694 Sum: 0.4694\n",
      "Step 2310/3000 MLoss: 0.0 GLoss: 0.4607 Sum: 0.4607\n",
      "Step 2320/3000 MLoss: 0.0 GLoss: 0.45 Sum: 0.45\n",
      "Step 2330/3000 MLoss: 0.0 GLoss: 0.4569 Sum: 0.4569\n",
      "Step 2340/3000 MLoss: 0.0 GLoss: 0.4758 Sum: 0.4758\n",
      "Step 2350/3000 MLoss: 0.0 GLoss: 0.468 Sum: 0.468\n",
      "Step 2360/3000 MLoss: 0.0 GLoss: 0.437 Sum: 0.437\n",
      "Step 2370/3000 MLoss: 0.0 GLoss: 0.4398 Sum: 0.4398\n",
      "Step 2380/3000 MLoss: 0.0 GLoss: 0.466 Sum: 0.466\n",
      "Step 2390/3000 MLoss: 0.0 GLoss: 0.4727 Sum: 0.4727\n",
      "Step 2400/3000 MLoss: 0.0 GLoss: 0.4616 Sum: 0.4616\n",
      "Step 2410/3000 MLoss: 0.0 GLoss: 0.4757 Sum: 0.4757\n",
      "Step 2420/3000 MLoss: 0.0 GLoss: 0.4726 Sum: 0.4726\n",
      "Step 2430/3000 MLoss: 0.0 GLoss: 0.4759 Sum: 0.4759\n",
      "Step 2440/3000 MLoss: 0.0 GLoss: 0.4528 Sum: 0.4528\n",
      "Step 2450/3000 MLoss: 0.0 GLoss: 0.4668 Sum: 0.4668\n",
      "Step 2460/3000 MLoss: 0.0 GLoss: 0.4615 Sum: 0.4615\n",
      "Step 2470/3000 MLoss: 0.0 GLoss: 0.4502 Sum: 0.4502\n",
      "Step 2480/3000 MLoss: 0.0 GLoss: 0.4692 Sum: 0.4692\n",
      "Step 2490/3000 MLoss: 0.0 GLoss: 0.4596 Sum: 0.4596\n",
      "Step 2500/3000 MLoss: 0.0 GLoss: 0.4566 Sum: 0.4566\n",
      "Step 2510/3000 MLoss: 0.0 GLoss: 0.4592 Sum: 0.4592\n",
      "Step 2520/3000 MLoss: 0.0 GLoss: 0.4412 Sum: 0.4412\n",
      "Step 2530/3000 MLoss: 0.0 GLoss: 0.4615 Sum: 0.4615\n",
      "Step 2540/3000 MLoss: 0.0 GLoss: 0.4806 Sum: 0.4806\n",
      "Step 2550/3000 MLoss: 0.0 GLoss: 0.459 Sum: 0.459\n",
      "Step 2560/3000 MLoss: 0.0 GLoss: 0.4495 Sum: 0.4495\n",
      "Step 2570/3000 MLoss: 0.0 GLoss: 0.462 Sum: 0.462\n",
      "Step 2580/3000 MLoss: 0.0 GLoss: 0.465 Sum: 0.465\n",
      "Step 2590/3000 MLoss: 0.0 GLoss: 0.4682 Sum: 0.4682\n",
      "Step 2600/3000 MLoss: 0.0 GLoss: 0.4571 Sum: 0.4571\n",
      "Step 2610/3000 MLoss: 0.0 GLoss: 0.4493 Sum: 0.4493\n",
      "Step 2620/3000 MLoss: 0.0 GLoss: 0.4498 Sum: 0.4498\n",
      "Step 2630/3000 MLoss: 0.0 GLoss: 0.471 Sum: 0.471\n",
      "Step 2640/3000 MLoss: 0.0 GLoss: 0.4511 Sum: 0.4511\n",
      "Step 2650/3000 MLoss: 0.0 GLoss: 0.4737 Sum: 0.4737\n",
      "Step 2660/3000 MLoss: 0.0 GLoss: 0.468 Sum: 0.468\n",
      "Step 2670/3000 MLoss: 0.0 GLoss: 0.4607 Sum: 0.4607\n",
      "Step 2680/3000 MLoss: 0.0 GLoss: 0.4689 Sum: 0.4689\n",
      "Step 2690/3000 MLoss: 0.0 GLoss: 0.467 Sum: 0.467\n",
      "Step 2700/3000 MLoss: 0.0 GLoss: 0.4604 Sum: 0.4604\n",
      "Step 2710/3000 MLoss: 0.0 GLoss: 0.4678 Sum: 0.4678\n",
      "Step 2720/3000 MLoss: 0.0 GLoss: 0.4644 Sum: 0.4644\n",
      "Step 2730/3000 MLoss: 0.0 GLoss: 0.4733 Sum: 0.4733\n",
      "Step 2740/3000 MLoss: 0.0 GLoss: 0.4605 Sum: 0.4605\n",
      "Step 2750/3000 MLoss: 0.0 GLoss: 0.4622 Sum: 0.4622\n",
      "Step 2760/3000 MLoss: 0.0 GLoss: 0.4632 Sum: 0.4632\n",
      "Step 2770/3000 MLoss: 0.0 GLoss: 0.4779 Sum: 0.4779\n",
      "Step 2780/3000 MLoss: 0.0 GLoss: 0.4573 Sum: 0.4573\n",
      "Step 2790/3000 MLoss: 0.0 GLoss: 0.4822 Sum: 0.4822\n",
      "Step 2800/3000 MLoss: 0.0 GLoss: 0.4462 Sum: 0.4462\n",
      "Step 2810/3000 MLoss: 0.0 GLoss: 0.4694 Sum: 0.4694\n",
      "Step 2820/3000 MLoss: 0.0 GLoss: 0.4457 Sum: 0.4457\n",
      "Step 2830/3000 MLoss: 0.0 GLoss: 0.4796 Sum: 0.4796\n",
      "Step 2840/3000 MLoss: 0.0 GLoss: 0.4713 Sum: 0.4713\n",
      "Step 2850/3000 MLoss: 0.0 GLoss: 0.4619 Sum: 0.4619\n",
      "Step 2860/3000 MLoss: 0.0 GLoss: 0.4582 Sum: 0.4582\n",
      "Step 2870/3000 MLoss: 0.0 GLoss: 0.4613 Sum: 0.4613\n",
      "Step 2880/3000 MLoss: 0.0 GLoss: 0.4613 Sum: 0.4613\n",
      "Step 2890/3000 MLoss: 0.0 GLoss: 0.4651 Sum: 0.4651\n",
      "Step 2900/3000 MLoss: 0.0 GLoss: 0.4506 Sum: 0.4506\n",
      "Step 2910/3000 MLoss: 0.0 GLoss: 0.4665 Sum: 0.4665\n",
      "Step 2920/3000 MLoss: 0.0 GLoss: 0.4606 Sum: 0.4606\n",
      "Step 2930/3000 MLoss: 0.0 GLoss: 0.4563 Sum: 0.4563\n",
      "Step 2940/3000 MLoss: 0.0 GLoss: 0.4614 Sum: 0.4614\n",
      "Step 2950/3000 MLoss: 0.0 GLoss: 0.4539 Sum: 0.4539\n",
      "Step 2960/3000 MLoss: 0.0 GLoss: 0.4533 Sum: 0.4533\n",
      "Step 2970/3000 MLoss: 0.0 GLoss: 0.4746 Sum: 0.4746\n",
      "Step 2980/3000 MLoss: 0.0 GLoss: 0.4525 Sum: 0.4525\n",
      "Step 2990/3000 MLoss: 0.0 GLoss: 0.4608 Sum: 0.4608\n",
      "Step 3000/3000 MLoss: 0.0 GLoss: 0.4558 Sum: 0.4558\n",
      "CPU times: user 42.2 s, sys: 9.55 s, total: 51.8 s\n",
      "Wall time: 44.5 s\n"
     ]
    }
   ],
   "source": [
    "%%time\n",
    "_train(\n",
    "    **raw_config['train']['main'],\n",
    "    **raw_config['diffusion_params'],\n",
    "    parent_dir=raw_config['parent_dir'],\n",
    "    real_data_path=raw_config['real_data_path'],\n",
    "    model_type=raw_config['model_type'],\n",
    "    model_params=raw_config['model_params'],\n",
    "    T_dict=raw_config['train']['T'],\n",
    "    num_numerical_features=raw_config['num_numerical_features'],\n",
    "    device=device,\n",
    "    change_val=False\n",
    ")"
   ],
   "metadata": {
    "collapsed": false,
    "ExecuteTime": {
     "end_time": "2023-12-28T14:34:13.399679Z",
     "start_time": "2023-12-28T14:33:28.856127Z"
    }
   },
   "id": "ae80b1062089689b"
  },
  {
   "cell_type": "markdown",
   "source": [
    "# Plot data"
   ],
   "metadata": {
    "collapsed": false
   },
   "id": "c0545cd131a4c84b"
  },
  {
   "cell_type": "code",
   "execution_count": 8,
   "outputs": [],
   "source": [
    "X_train = np.load(os.path.join(raw_config['real_data_path'], 'X_num_train.npy'))"
   ],
   "metadata": {
    "collapsed": false,
    "ExecuteTime": {
     "end_time": "2023-12-28T14:34:16.622868Z",
     "start_time": "2023-12-28T14:34:16.620345Z"
    }
   },
   "id": "7cb36382c3ff0928"
  },
  {
   "cell_type": "code",
   "execution_count": 9,
   "outputs": [
    {
     "data": {
      "text/plain": "<Figure size 640x480 with 1 Axes>",
      "image/png": "[encoded data removed]"
     },
     "metadata": {},
     "output_type": "display_data"
    }
   ],
   "source": [
    "plt.scatter(X_train[:, 0], X_train[:, 1], s=1);"
   ],
   "metadata": {
    "collapsed": false,
    "ExecuteTime": {
     "end_time": "2023-12-28T14:34:17.188503Z",
     "start_time": "2023-12-28T14:34:17.099207Z"
    }
   },
   "id": "5633a73c56958548"
  },
  {
   "cell_type": "markdown",
   "source": [
    "# Sampling"
   ],
   "metadata": {
    "collapsed": false
   },
   "id": "3b3fa5800fc9be58"
  },
  {
   "cell_type": "code",
   "execution_count": 10,
   "outputs": [
    {
     "name": "stderr",
     "output_type": "stream",
     "text": [
      "/Users/ratzenboe/anaconda3/envs/torch/lib/python3.11/site-packages/delu/_utils.py:22: DeLUDeprecationWarning: The function improve_reproducibility` is deprecated and will be removed in future releases. Instead, use `delu.random.seed` and manually set flags mentioned in the `PyTorch docs on reproducibility <https://pytorch.org/docs/stable/notes/randomness.html>`_\n",
      "  warnings.warn(\n"
     ]
    }
   ],
   "source": [
    "# Set necessary parameters\n",
    "real_data_path = raw_config['real_data_path']\n",
    "batch_size = raw_config['sample']['batch_size']\n",
    "num_samples = raw_config['sample']['num_samples']\n",
    "model_type = raw_config['model_type']\n",
    "model_params = raw_config['model_params']\n",
    "model_path = os.path.join(raw_config['parent_dir'], 'model.pt')\n",
    "num_timesteps = 1000\n",
    "gaussian_loss_type = 'mse'\n",
    "scheduler = 'cosine'\n",
    "T_dict = raw_config['train']['T']\n",
    "num_numerical_features = raw_config['num_numerical_features'] \n",
    "disbalance = raw_config['sample'].get('disbalance', None)\n",
    "seed = raw_config['sample'].get('seed', 0)\n",
    "change_val = False\n",
    "\n",
    "zero.improve_reproducibility(seed)\n",
    "# Get data\n",
    "T = lib.Transformations(**T_dict)\n",
    "D = make_dataset(\n",
    "    real_data_path,\n",
    "    T,\n",
    "    num_classes=model_params['num_classes'],\n",
    "    is_y_cond=model_params['is_y_cond'],\n",
    "    change_val=change_val\n",
    ")\n",
    "\n",
    "K = np.array(D.get_category_sizes('train'))\n",
    "if len(K) == 0 or T_dict['cat_encoding'] == 'one-hot':\n",
    "    K = np.array([0])\n",
    "\n",
    "num_numerical_features_ = D.X_num['train'].shape[1] if D.X_num is not None else 0\n",
    "d_in = np.sum(K) + num_numerical_features_\n",
    "model_params['d_in'] = int(d_in)"
   ],
   "metadata": {
    "collapsed": false,
    "ExecuteTime": {
     "end_time": "2023-12-28T14:34:19.936268Z",
     "start_time": "2023-12-28T14:34:19.926161Z"
    }
   },
   "id": "a9ba4a8a4302d37b"
  },
  {
   "cell_type": "code",
   "execution_count": 11,
   "outputs": [
    {
     "name": "stdout",
     "output_type": "stream",
     "text": [
      "mlp\n",
      "Sample timestep    0\r\n",
      "Sample timestep    0\r\n",
      "Sample timestep    0\r\n",
      "Sample timestep    0\r\n"
     ]
    }
   ],
   "source": [
    "# Get denoising model (MLPDiffusion model)\n",
    "model = get_model(\n",
    "    model_type,\n",
    "    model_params,\n",
    "    num_numerical_features_,\n",
    "    category_sizes=D.get_category_sizes('train')\n",
    ")\n",
    "model.load_state_dict(\n",
    "    torch.load(model_path, map_location=\"cpu\")\n",
    ")\n",
    "# Create instance of diffusion model\n",
    "diffusion = GaussianMultinomialDiffusion(\n",
    "    num_classes=K,\n",
    "    num_numerical_features=num_numerical_features_,\n",
    "    denoise_fn=model, \n",
    "    num_timesteps=num_timesteps, \n",
    "    gaussian_loss_type=gaussian_loss_type, \n",
    "    scheduler=scheduler, \n",
    "    device=device\n",
    ")\n",
    "diffusion.to(device)\n",
    "diffusion.eval()\n",
    "# \n",
    "_, empirical_class_dist = torch.unique(torch.from_numpy(D.y['train']), return_counts=True)\n",
    "# Generate data\n",
    "x_gen, y_gen = diffusion.sample_all(num_samples, batch_size, empirical_class_dist.float(), ddim=False)\n",
    "X_gen, y_gen = x_gen.numpy(), y_gen.numpy()\n",
    "\n",
    "num_numerical_features = num_numerical_features + int(D.is_regression and not model_params[\"is_y_cond\"])\n",
    "# Get numerical features\n",
    "X_num_ = D.num_transform.inverse_transform(X_gen[:, :num_numerical_features])\n",
    "X_num = X_num_[:, :num_numerical_features]"
   ],
   "metadata": {
    "collapsed": false,
    "ExecuteTime": {
     "end_time": "2023-12-28T14:34:39.176154Z",
     "start_time": "2023-12-28T14:34:20.502491Z"
    }
   },
   "id": "2a588458a35292cb"
  },
  {
   "cell_type": "code",
   "execution_count": 12,
   "outputs": [
    {
     "data": {
      "text/plain": "<matplotlib.legend.Legend at 0x2ac1b9c50>"
     },
     "execution_count": 12,
     "metadata": {},
     "output_type": "execute_result"
    },
    {
     "data": {
      "text/plain": "<Figure size 640x480 with 1 Axes>",
      "image/png": "[encoded data removed]"
     },
     "metadata": {},
     "output_type": "display_data"
    }
   ],
   "source": [
    "# Plot generated data\n",
    "plt.scatter(X_num[:, 0], X_num[:, 1], s=1, label='Generated')\n",
    "plt.scatter(X_train[:, 0], X_train[:, 1], s=1, label='Train')\n",
    "plt.legend()"
   ],
   "metadata": {
    "collapsed": false,
    "ExecuteTime": {
     "end_time": "2023-12-28T14:34:40.669849Z",
     "start_time": "2023-12-28T14:34:40.528891Z"
    }
   },
   "id": "b245ba4ca96a4fd0"
  },
  {
   "cell_type": "code",
   "execution_count": 13,
   "outputs": [],
   "source": [
    "# Generate samples at each timestep\n",
    "@torch.no_grad()\n",
    "def diffused_samples(diffusion_model, num_samples, y_dist):\n",
    "    b = num_samples\n",
    "    device = diffusion_model.log_alpha.device\n",
    "    z_norm = torch.randn((b, diffusion_model.num_numerical_features), device=device)\n",
    "    # Create y\n",
    "    y = torch.multinomial(\n",
    "        y_dist,\n",
    "        num_samples=b,\n",
    "        replacement=True\n",
    "    )\n",
    "    samples_t_i = []  \n",
    "    out_dict = {'y': y.long().to(device)}\n",
    "    for i in reversed(range(0, diffusion_model.num_timesteps)):\n",
    "        print(f'Sample timestep {i:4d}', end='\\r')\n",
    "        t = torch.full((b,), i, device=device, dtype=torch.long)\n",
    "        model_out = diffusion_model._denoise_fn(\n",
    "            torch.cat([z_norm], dim=1).float(),\n",
    "            t,\n",
    "            **out_dict\n",
    "        )\n",
    "        model_out_num = model_out[:, :diffusion_model.num_numerical_features]\n",
    "        z_norm = diffusion_model.gaussian_p_sample(model_out_num, z_norm, t, clip_denoised=False)['sample']\n",
    "        sample = torch.cat([z_norm], dim=1)\n",
    "        mask_nan = torch.any(sample.isnan(), dim=1)\n",
    "        sample = sample[~mask_nan]\n",
    "        samples_t_i.append(sample.numpy())\n",
    "        \n",
    "    print()\n",
    "    return samples_t_i"
   ],
   "metadata": {
    "collapsed": false,
    "ExecuteTime": {
     "end_time": "2023-12-28T14:34:47.120680Z",
     "start_time": "2023-12-28T14:34:47.118440Z"
    }
   },
   "id": "8af40315010ab0bd"
  },
  {
   "cell_type": "code",
   "execution_count": 14,
   "outputs": [
    {
     "name": "stdout",
     "output_type": "stream",
     "text": [
      "Sample timestep    0\r\n"
     ]
    }
   ],
   "source": [
    "# Get samples at each timestep\n",
    "samples_t_i = diffused_samples(diffusion, batch_size, empirical_class_dist.float())"
   ],
   "metadata": {
    "collapsed": false,
    "ExecuteTime": {
     "end_time": "2023-12-28T14:34:52.593456Z",
     "start_time": "2023-12-28T14:34:47.703902Z"
    }
   },
   "id": "294a90af57a26390"
  },
  {
   "cell_type": "code",
   "execution_count": 15,
   "outputs": [],
   "source": [
    "# Get transformed samples (inverse quantile transform, see config.toml for transformation parameters)\n",
    "samples_t_i_final = [D.num_transform.inverse_transform(si) for si in samples_t_i]"
   ],
   "metadata": {
    "collapsed": false,
    "ExecuteTime": {
     "end_time": "2023-12-28T14:34:54.454613Z",
     "start_time": "2023-12-28T14:34:54.299206Z"
    }
   },
   "id": "bad59337046189f4"
  },
  {
   "cell_type": "code",
   "execution_count": 17,
   "outputs": [],
   "source": [
    "for i in range(len(samples_t_i_final)):\n",
    "    if i%10 == 0:\n",
    "        plt.scatter(samples_t_i_final[i][:, 0], samples_t_i_final[i][:, 1], s=1)\n",
    "        # save fig on Desktop\n",
    "        plt.savefig(f'/Users/ratzenboe/Desktop/figs/fig_t-{i}.png')  #, tight_layout=True)\n",
    "        plt.close()\n",
    "        \n",
    "plt.scatter(samples_t_i_final[-1][:, 0], samples_t_i_final[-1][:, 1], s=1)\n",
    "# save fig on Desktop\n",
    "plt.savefig(f'/Users/ratzenboe/Desktop/figs/fig_t-{1000}.png')  #, tight_layout=True)\n",
    "plt.close()"
   ],
   "metadata": {
    "collapsed": false,
    "ExecuteTime": {
     "end_time": "2023-12-28T14:35:53.349876Z",
     "start_time": "2023-12-28T14:35:50.195579Z"
    }
   },
   "id": "436691216c25fedc"
  },
  {
   "cell_type": "code",
   "execution_count": null,
   "outputs": [],
   "source": [],
   "metadata": {
    "collapsed": false
   },
   "id": "dc4560ab09e107a1"
  }
 ],
 "metadata": {
  "kernelspec": {
   "display_name": "Python 3",
   "language": "python",
   "name": "python3"
  },
  "language_info": {
   "codemirror_mode": {
    "name": "ipython",
    "version": 2
   },
   "file_extension": ".py",
   "mimetype": "text/x-python",
   "name": "python",
   "nbconvert_exporter": "python",
   "pygments_lexer": "ipython2",
   "version": "2.7.6"
  }
 },
 "nbformat": 4,
 "nbformat_minor": 5
}
